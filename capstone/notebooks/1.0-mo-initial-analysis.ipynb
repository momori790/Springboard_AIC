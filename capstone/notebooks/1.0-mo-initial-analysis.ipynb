{
 "cells": [
  {
   "cell_type": "code",
   "execution_count": 1,
   "metadata": {},
   "outputs": [],
   "source": [
    "import dask.dataframe as dd\n",
    "import pandas as pd"
   ]
  },
  {
   "cell_type": "code",
   "execution_count": 9,
   "metadata": {},
   "outputs": [],
   "source": [
    "data_dir = '../data/raw/'\n",
    "df_sales = pd.read_csv(data_dir+'sales.csv', delimiter='\\t')\n",
    "df_cust = pd.read_csv(data_dir+'Customers.csv', delimiter='\\t')\n",
    "df_mail_train = pd.read_csv(data_dir+'Mailings1_2.csv')\n",
    "df_demog = pd.read_csv(data_dir+'Demog.csv', delimiter='\\t')\n",
    "df_mail_test = pd.read_csv(data_dir+'Mailings3.txt',delimiter='\\t')"
   ]
  },
  {
   "cell_type": "code",
   "execution_count": 15,
   "metadata": {},
   "outputs": [
    {
     "name": "stdout",
     "output_type": "stream",
     "text": [
      "(3420829, 4)\n"
     ]
    },
    {
     "data": {
      "text/html": [
       "<div>\n",
       "<style scoped>\n",
       "    .dataframe tbody tr th:only-of-type {\n",
       "        vertical-align: middle;\n",
       "    }\n",
       "\n",
       "    .dataframe tbody tr th {\n",
       "        vertical-align: top;\n",
       "    }\n",
       "\n",
       "    .dataframe thead th {\n",
       "        text-align: right;\n",
       "    }\n",
       "</style>\n",
       "<table border=\"1\" class=\"dataframe\">\n",
       "  <thead>\n",
       "    <tr style=\"text-align: right;\">\n",
       "      <th></th>\n",
       "      <th>EVENTID</th>\n",
       "      <th>REFID</th>\n",
       "      <th>EVENT_DATE</th>\n",
       "      <th>AMOUNT</th>\n",
       "    </tr>\n",
       "  </thead>\n",
       "  <tbody>\n",
       "    <tr>\n",
       "      <th>0</th>\n",
       "      <td>0</td>\n",
       "      <td>0</td>\n",
       "      <td>2006-12-21 12:00:00</td>\n",
       "      <td>17.907000</td>\n",
       "    </tr>\n",
       "    <tr>\n",
       "      <th>1</th>\n",
       "      <td>1</td>\n",
       "      <td>0</td>\n",
       "      <td>2006-12-25 12:00:00</td>\n",
       "      <td>17.400999</td>\n",
       "    </tr>\n",
       "    <tr>\n",
       "      <th>2</th>\n",
       "      <td>2</td>\n",
       "      <td>0</td>\n",
       "      <td>2007-01-26 12:00:00</td>\n",
       "      <td>13.277000</td>\n",
       "    </tr>\n",
       "  </tbody>\n",
       "</table>\n",
       "</div>"
      ],
      "text/plain": [
       "   EVENTID  REFID           EVENT_DATE     AMOUNT\n",
       "0        0      0  2006-12-21 12:00:00  17.907000\n",
       "1        1      0  2006-12-25 12:00:00  17.400999\n",
       "2        2      0  2007-01-26 12:00:00  13.277000"
      ]
     },
     "execution_count": 15,
     "metadata": {},
     "output_type": "execute_result"
    }
   ],
   "source": [
    "print(df_sales.shape)\n",
    "df_sales.head(3)"
   ]
  },
  {
   "cell_type": "code",
   "execution_count": 16,
   "metadata": {},
   "outputs": [
    {
     "name": "stdout",
     "output_type": "stream",
     "text": [
      "(360000, 13)\n"
     ]
    },
    {
     "data": {
      "text/html": [
       "<div>\n",
       "<style scoped>\n",
       "    .dataframe tbody tr th:only-of-type {\n",
       "        vertical-align: middle;\n",
       "    }\n",
       "\n",
       "    .dataframe tbody tr th {\n",
       "        vertical-align: top;\n",
       "    }\n",
       "\n",
       "    .dataframe thead th {\n",
       "        text-align: right;\n",
       "    }\n",
       "</style>\n",
       "<table border=\"1\" class=\"dataframe\">\n",
       "  <thead>\n",
       "    <tr style=\"text-align: right;\">\n",
       "      <th></th>\n",
       "      <th>ID</th>\n",
       "      <th>SEX</th>\n",
       "      <th>MARITAL_STATUS</th>\n",
       "      <th>GEOID</th>\n",
       "      <th>EDUCATIONNUM</th>\n",
       "      <th>OCCUPATION</th>\n",
       "      <th>DATA1</th>\n",
       "      <th>DATA2</th>\n",
       "      <th>DATA3</th>\n",
       "      <th>NOM1</th>\n",
       "      <th>NOM2</th>\n",
       "      <th>NOM3</th>\n",
       "      <th>age</th>\n",
       "    </tr>\n",
       "  </thead>\n",
       "  <tbody>\n",
       "    <tr>\n",
       "      <th>0</th>\n",
       "      <td>0</td>\n",
       "      <td>Male</td>\n",
       "      <td>Never-married</td>\n",
       "      <td>61</td>\n",
       "      <td>7</td>\n",
       "      <td>Machine-op-inspct</td>\n",
       "      <td>9.276</td>\n",
       "      <td>3.592</td>\n",
       "      <td>8.253</td>\n",
       "      <td>l</td>\n",
       "      <td>p</td>\n",
       "      <td>o</td>\n",
       "      <td>62</td>\n",
       "    </tr>\n",
       "    <tr>\n",
       "      <th>1</th>\n",
       "      <td>1</td>\n",
       "      <td>Male</td>\n",
       "      <td>Married-civ-spouse</td>\n",
       "      <td>70</td>\n",
       "      <td>3</td>\n",
       "      <td>Handlers-cleaners</td>\n",
       "      <td>5.836</td>\n",
       "      <td>4.574</td>\n",
       "      <td>5.507</td>\n",
       "      <td>u</td>\n",
       "      <td>r</td>\n",
       "      <td>x</td>\n",
       "      <td>78</td>\n",
       "    </tr>\n",
       "    <tr>\n",
       "      <th>2</th>\n",
       "      <td>2</td>\n",
       "      <td>Male</td>\n",
       "      <td>Never-married</td>\n",
       "      <td>53</td>\n",
       "      <td>7</td>\n",
       "      <td>Machine-op-inspct</td>\n",
       "      <td>8.998</td>\n",
       "      <td>4.184</td>\n",
       "      <td>8.593</td>\n",
       "      <td>n</td>\n",
       "      <td>q</td>\n",
       "      <td>o</td>\n",
       "      <td>69</td>\n",
       "    </tr>\n",
       "  </tbody>\n",
       "</table>\n",
       "</div>"
      ],
      "text/plain": [
       "   ID   SEX      MARITAL_STATUS  GEOID  EDUCATIONNUM         OCCUPATION  \\\n",
       "0   0  Male       Never-married     61             7  Machine-op-inspct   \n",
       "1   1  Male  Married-civ-spouse     70             3  Handlers-cleaners   \n",
       "2   2  Male       Never-married     53             7  Machine-op-inspct   \n",
       "\n",
       "   DATA1  DATA2  DATA3 NOM1 NOM2 NOM3  age  \n",
       "0  9.276  3.592  8.253    l    p    o   62  \n",
       "1  5.836  4.574  5.507    u    r    x   78  \n",
       "2  8.998  4.184  8.593    n    q    o   69  "
      ]
     },
     "execution_count": 16,
     "metadata": {},
     "output_type": "execute_result"
    }
   ],
   "source": [
    "print(df_cust.shape)\n",
    "df_cust.head(3)"
   ]
  },
  {
   "cell_type": "code",
   "execution_count": 17,
   "metadata": {},
   "outputs": [
    {
     "name": "stdout",
     "output_type": "stream",
     "text": [
      "(60000, 4)\n"
     ]
    },
    {
     "data": {
      "text/html": [
       "<div>\n",
       "<style scoped>\n",
       "    .dataframe tbody tr th:only-of-type {\n",
       "        vertical-align: middle;\n",
       "    }\n",
       "\n",
       "    .dataframe tbody tr th {\n",
       "        vertical-align: top;\n",
       "    }\n",
       "\n",
       "    .dataframe thead th {\n",
       "        text-align: right;\n",
       "    }\n",
       "</style>\n",
       "<table border=\"1\" class=\"dataframe\">\n",
       "  <thead>\n",
       "    <tr style=\"text-align: right;\">\n",
       "      <th></th>\n",
       "      <th>REFID</th>\n",
       "      <th>KxIndex</th>\n",
       "      <th>REF_DATE</th>\n",
       "      <th>RESPONSE</th>\n",
       "    </tr>\n",
       "  </thead>\n",
       "  <tbody>\n",
       "    <tr>\n",
       "      <th>0</th>\n",
       "      <td>0</td>\n",
       "      <td>1</td>\n",
       "      <td>2007-02-01 12:00:00</td>\n",
       "      <td>False</td>\n",
       "    </tr>\n",
       "    <tr>\n",
       "      <th>1</th>\n",
       "      <td>1</td>\n",
       "      <td>2</td>\n",
       "      <td>2007-02-01 12:00:00</td>\n",
       "      <td>False</td>\n",
       "    </tr>\n",
       "    <tr>\n",
       "      <th>2</th>\n",
       "      <td>2</td>\n",
       "      <td>3</td>\n",
       "      <td>2007-02-01 12:00:00</td>\n",
       "      <td>False</td>\n",
       "    </tr>\n",
       "  </tbody>\n",
       "</table>\n",
       "</div>"
      ],
      "text/plain": [
       "   REFID  KxIndex             REF_DATE  RESPONSE\n",
       "0      0        1  2007-02-01 12:00:00     False\n",
       "1      1        2  2007-02-01 12:00:00     False\n",
       "2      2        3  2007-02-01 12:00:00     False"
      ]
     },
     "execution_count": 17,
     "metadata": {},
     "output_type": "execute_result"
    }
   ],
   "source": [
    "print(df_mail_train.shape)\n",
    "df_mail_train.head(3)"
   ]
  },
  {
   "cell_type": "code",
   "execution_count": 18,
   "metadata": {},
   "outputs": [
    {
     "name": "stdout",
     "output_type": "stream",
     "text": [
      "(200, 21)\n"
     ]
    },
    {
     "data": {
      "text/html": [
       "<div>\n",
       "<style scoped>\n",
       "    .dataframe tbody tr th:only-of-type {\n",
       "        vertical-align: middle;\n",
       "    }\n",
       "\n",
       "    .dataframe tbody tr th {\n",
       "        vertical-align: top;\n",
       "    }\n",
       "\n",
       "    .dataframe thead th {\n",
       "        text-align: right;\n",
       "    }\n",
       "</style>\n",
       "<table border=\"1\" class=\"dataframe\">\n",
       "  <thead>\n",
       "    <tr style=\"text-align: right;\">\n",
       "      <th></th>\n",
       "      <th>GEOID</th>\n",
       "      <th>INHABITANTS_K</th>\n",
       "      <th>INCOME_K</th>\n",
       "      <th>A_VAR1</th>\n",
       "      <th>A_VAR2</th>\n",
       "      <th>A_VAR3</th>\n",
       "      <th>A_VAR4</th>\n",
       "      <th>A_VAR5</th>\n",
       "      <th>A_VAR6</th>\n",
       "      <th>A_VAR7</th>\n",
       "      <th>...</th>\n",
       "      <th>A_VAR9</th>\n",
       "      <th>A_VAR10</th>\n",
       "      <th>A_VAR11</th>\n",
       "      <th>A_VAR12</th>\n",
       "      <th>A_VAR13</th>\n",
       "      <th>A_VAR14</th>\n",
       "      <th>A_VAR15</th>\n",
       "      <th>A_VAR16</th>\n",
       "      <th>A_VAR17</th>\n",
       "      <th>A_VAR18</th>\n",
       "    </tr>\n",
       "  </thead>\n",
       "  <tbody>\n",
       "    <tr>\n",
       "      <th>0</th>\n",
       "      <td>0</td>\n",
       "      <td>30.046</td>\n",
       "      <td>2631.468018</td>\n",
       "      <td>6.084</td>\n",
       "      <td>5.790</td>\n",
       "      <td>8.595</td>\n",
       "      <td>3.935</td>\n",
       "      <td>6.362</td>\n",
       "      <td>8.626</td>\n",
       "      <td>4.624</td>\n",
       "      <td>...</td>\n",
       "      <td>5.233</td>\n",
       "      <td>6.232</td>\n",
       "      <td>5.205</td>\n",
       "      <td>8.231</td>\n",
       "      <td>6.746</td>\n",
       "      <td>8.679</td>\n",
       "      <td>5.292</td>\n",
       "      <td>3.500</td>\n",
       "      <td>5.512</td>\n",
       "      <td>5.783</td>\n",
       "    </tr>\n",
       "    <tr>\n",
       "      <th>1</th>\n",
       "      <td>1</td>\n",
       "      <td>36.250</td>\n",
       "      <td>3012.745117</td>\n",
       "      <td>4.604</td>\n",
       "      <td>8.309</td>\n",
       "      <td>6.007</td>\n",
       "      <td>5.938</td>\n",
       "      <td>8.773</td>\n",
       "      <td>3.579</td>\n",
       "      <td>6.349</td>\n",
       "      <td>...</td>\n",
       "      <td>6.884</td>\n",
       "      <td>7.062</td>\n",
       "      <td>7.319</td>\n",
       "      <td>3.720</td>\n",
       "      <td>6.405</td>\n",
       "      <td>7.202</td>\n",
       "      <td>4.932</td>\n",
       "      <td>7.969</td>\n",
       "      <td>8.150</td>\n",
       "      <td>5.633</td>\n",
       "    </tr>\n",
       "    <tr>\n",
       "      <th>2</th>\n",
       "      <td>2</td>\n",
       "      <td>47.645</td>\n",
       "      <td>2192.410889</td>\n",
       "      <td>4.911</td>\n",
       "      <td>8.557</td>\n",
       "      <td>5.934</td>\n",
       "      <td>6.494</td>\n",
       "      <td>9.172</td>\n",
       "      <td>3.202</td>\n",
       "      <td>6.157</td>\n",
       "      <td>...</td>\n",
       "      <td>7.942</td>\n",
       "      <td>7.901</td>\n",
       "      <td>7.928</td>\n",
       "      <td>2.330</td>\n",
       "      <td>6.029</td>\n",
       "      <td>6.455</td>\n",
       "      <td>4.720</td>\n",
       "      <td>8.564</td>\n",
       "      <td>8.342</td>\n",
       "      <td>4.938</td>\n",
       "    </tr>\n",
       "  </tbody>\n",
       "</table>\n",
       "<p>3 rows × 21 columns</p>\n",
       "</div>"
      ],
      "text/plain": [
       "   GEOID  INHABITANTS_K     INCOME_K  A_VAR1  A_VAR2  A_VAR3  A_VAR4  A_VAR5  \\\n",
       "0      0         30.046  2631.468018   6.084   5.790   8.595   3.935   6.362   \n",
       "1      1         36.250  3012.745117   4.604   8.309   6.007   5.938   8.773   \n",
       "2      2         47.645  2192.410889   4.911   8.557   5.934   6.494   9.172   \n",
       "\n",
       "   A_VAR6  A_VAR7   ...     A_VAR9  A_VAR10  A_VAR11  A_VAR12  A_VAR13  \\\n",
       "0   8.626   4.624   ...      5.233    6.232    5.205    8.231    6.746   \n",
       "1   3.579   6.349   ...      6.884    7.062    7.319    3.720    6.405   \n",
       "2   3.202   6.157   ...      7.942    7.901    7.928    2.330    6.029   \n",
       "\n",
       "   A_VAR14  A_VAR15  A_VAR16  A_VAR17  A_VAR18  \n",
       "0    8.679    5.292    3.500    5.512    5.783  \n",
       "1    7.202    4.932    7.969    8.150    5.633  \n",
       "2    6.455    4.720    8.564    8.342    4.938  \n",
       "\n",
       "[3 rows x 21 columns]"
      ]
     },
     "execution_count": 18,
     "metadata": {},
     "output_type": "execute_result"
    }
   ],
   "source": [
    "print(df_demog.shape)\n",
    "df_demog.head(3)"
   ]
  },
  {
   "cell_type": "code",
   "execution_count": 19,
   "metadata": {},
   "outputs": [
    {
     "name": "stdout",
     "output_type": "stream",
     "text": [
      "(300000, 3)\n"
     ]
    },
    {
     "data": {
      "text/html": [
       "<div>\n",
       "<style scoped>\n",
       "    .dataframe tbody tr th:only-of-type {\n",
       "        vertical-align: middle;\n",
       "    }\n",
       "\n",
       "    .dataframe tbody tr th {\n",
       "        vertical-align: top;\n",
       "    }\n",
       "\n",
       "    .dataframe thead th {\n",
       "        text-align: right;\n",
       "    }\n",
       "</style>\n",
       "<table border=\"1\" class=\"dataframe\">\n",
       "  <thead>\n",
       "    <tr style=\"text-align: right;\">\n",
       "      <th></th>\n",
       "      <th>REFID</th>\n",
       "      <th>REF_DATE</th>\n",
       "      <th>RESPONSE</th>\n",
       "    </tr>\n",
       "  </thead>\n",
       "  <tbody>\n",
       "    <tr>\n",
       "      <th>0</th>\n",
       "      <td>60000</td>\n",
       "      <td>2007-07-01 12:00:00</td>\n",
       "      <td>False</td>\n",
       "    </tr>\n",
       "    <tr>\n",
       "      <th>1</th>\n",
       "      <td>60001</td>\n",
       "      <td>2007-07-01 12:00:00</td>\n",
       "      <td>False</td>\n",
       "    </tr>\n",
       "    <tr>\n",
       "      <th>2</th>\n",
       "      <td>60002</td>\n",
       "      <td>2007-07-01 12:00:00</td>\n",
       "      <td>False</td>\n",
       "    </tr>\n",
       "  </tbody>\n",
       "</table>\n",
       "</div>"
      ],
      "text/plain": [
       "   REFID             REF_DATE  RESPONSE\n",
       "0  60000  2007-07-01 12:00:00     False\n",
       "1  60001  2007-07-01 12:00:00     False\n",
       "2  60002  2007-07-01 12:00:00     False"
      ]
     },
     "execution_count": 19,
     "metadata": {},
     "output_type": "execute_result"
    }
   ],
   "source": [
    "print(df_mail_test.shape)\n",
    "df_mail_test.head(3)"
   ]
  },
  {
   "cell_type": "markdown",
   "metadata": {},
   "source": [
    "# Rossmann\n",
    "https://www.kaggle.com/c/rossmann-store-sales/data\n",
    "\n"
   ]
  },
  {
   "cell_type": "code",
   "execution_count": 24,
   "metadata": {},
   "outputs": [
    {
     "name": "stdout",
     "output_type": "stream",
     "text": [
      "(1115, 10)\n"
     ]
    },
    {
     "data": {
      "text/html": [
       "<div>\n",
       "<style scoped>\n",
       "    .dataframe tbody tr th:only-of-type {\n",
       "        vertical-align: middle;\n",
       "    }\n",
       "\n",
       "    .dataframe tbody tr th {\n",
       "        vertical-align: top;\n",
       "    }\n",
       "\n",
       "    .dataframe thead th {\n",
       "        text-align: right;\n",
       "    }\n",
       "</style>\n",
       "<table border=\"1\" class=\"dataframe\">\n",
       "  <thead>\n",
       "    <tr style=\"text-align: right;\">\n",
       "      <th></th>\n",
       "      <th>Store</th>\n",
       "      <th>StoreType</th>\n",
       "      <th>Assortment</th>\n",
       "      <th>CompetitionDistance</th>\n",
       "      <th>CompetitionOpenSinceMonth</th>\n",
       "      <th>CompetitionOpenSinceYear</th>\n",
       "      <th>Promo2</th>\n",
       "      <th>Promo2SinceWeek</th>\n",
       "      <th>Promo2SinceYear</th>\n",
       "      <th>PromoInterval</th>\n",
       "    </tr>\n",
       "  </thead>\n",
       "  <tbody>\n",
       "    <tr>\n",
       "      <th>0</th>\n",
       "      <td>1</td>\n",
       "      <td>c</td>\n",
       "      <td>a</td>\n",
       "      <td>1270.0</td>\n",
       "      <td>9.0</td>\n",
       "      <td>2008.0</td>\n",
       "      <td>0</td>\n",
       "      <td>NaN</td>\n",
       "      <td>NaN</td>\n",
       "      <td>NaN</td>\n",
       "    </tr>\n",
       "    <tr>\n",
       "      <th>1</th>\n",
       "      <td>2</td>\n",
       "      <td>a</td>\n",
       "      <td>a</td>\n",
       "      <td>570.0</td>\n",
       "      <td>11.0</td>\n",
       "      <td>2007.0</td>\n",
       "      <td>1</td>\n",
       "      <td>13.0</td>\n",
       "      <td>2010.0</td>\n",
       "      <td>Jan,Apr,Jul,Oct</td>\n",
       "    </tr>\n",
       "  </tbody>\n",
       "</table>\n",
       "</div>"
      ],
      "text/plain": [
       "   Store StoreType Assortment  CompetitionDistance  CompetitionOpenSinceMonth  \\\n",
       "0      1         c          a               1270.0                        9.0   \n",
       "1      2         a          a                570.0                       11.0   \n",
       "\n",
       "   CompetitionOpenSinceYear  Promo2  Promo2SinceWeek  Promo2SinceYear  \\\n",
       "0                    2008.0       0              NaN              NaN   \n",
       "1                    2007.0       1             13.0           2010.0   \n",
       "\n",
       "     PromoInterval  \n",
       "0              NaN  \n",
       "1  Jan,Apr,Jul,Oct  "
      ]
     },
     "execution_count": 24,
     "metadata": {},
     "output_type": "execute_result"
    }
   ],
   "source": [
    "df_store = pd.read_csv('../data/raw/rossmann-store-sales/store.csv')\n",
    "print(df_store.shape)\n",
    "df_store.head(2)"
   ]
  },
  {
   "cell_type": "code",
   "execution_count": 25,
   "metadata": {},
   "outputs": [
    {
     "name": "stdout",
     "output_type": "stream",
     "text": [
      "(1017209, 9)\n"
     ]
    },
    {
     "name": "stderr",
     "output_type": "stream",
     "text": [
      "/usr/local/Cellar/python3/3.6.4_2/Frameworks/Python.framework/Versions/3.6/lib/python3.6/site-packages/IPython/core/interactiveshell.py:3020: DtypeWarning: Columns (7) have mixed types. Specify dtype option on import or set low_memory=False.\n",
      "  interactivity=interactivity, compiler=compiler, result=result)\n"
     ]
    },
    {
     "data": {
      "text/html": [
       "<div>\n",
       "<style scoped>\n",
       "    .dataframe tbody tr th:only-of-type {\n",
       "        vertical-align: middle;\n",
       "    }\n",
       "\n",
       "    .dataframe tbody tr th {\n",
       "        vertical-align: top;\n",
       "    }\n",
       "\n",
       "    .dataframe thead th {\n",
       "        text-align: right;\n",
       "    }\n",
       "</style>\n",
       "<table border=\"1\" class=\"dataframe\">\n",
       "  <thead>\n",
       "    <tr style=\"text-align: right;\">\n",
       "      <th></th>\n",
       "      <th>Store</th>\n",
       "      <th>DayOfWeek</th>\n",
       "      <th>Date</th>\n",
       "      <th>Sales</th>\n",
       "      <th>Customers</th>\n",
       "      <th>Open</th>\n",
       "      <th>Promo</th>\n",
       "      <th>StateHoliday</th>\n",
       "      <th>SchoolHoliday</th>\n",
       "    </tr>\n",
       "  </thead>\n",
       "  <tbody>\n",
       "    <tr>\n",
       "      <th>0</th>\n",
       "      <td>1</td>\n",
       "      <td>5</td>\n",
       "      <td>2015-07-31</td>\n",
       "      <td>5263</td>\n",
       "      <td>555</td>\n",
       "      <td>1</td>\n",
       "      <td>1</td>\n",
       "      <td>0</td>\n",
       "      <td>1</td>\n",
       "    </tr>\n",
       "    <tr>\n",
       "      <th>1</th>\n",
       "      <td>2</td>\n",
       "      <td>5</td>\n",
       "      <td>2015-07-31</td>\n",
       "      <td>6064</td>\n",
       "      <td>625</td>\n",
       "      <td>1</td>\n",
       "      <td>1</td>\n",
       "      <td>0</td>\n",
       "      <td>1</td>\n",
       "    </tr>\n",
       "  </tbody>\n",
       "</table>\n",
       "</div>"
      ],
      "text/plain": [
       "   Store  DayOfWeek        Date  Sales  Customers  Open  Promo StateHoliday  \\\n",
       "0      1          5  2015-07-31   5263        555     1      1            0   \n",
       "1      2          5  2015-07-31   6064        625     1      1            0   \n",
       "\n",
       "   SchoolHoliday  \n",
       "0              1  \n",
       "1              1  "
      ]
     },
     "execution_count": 25,
     "metadata": {},
     "output_type": "execute_result"
    }
   ],
   "source": [
    "df_train = pd.read_csv('../data/raw/rossmann-store-sales/train.csv')\n",
    "print(df_train.shape)\n",
    "df_train.head(2)"
   ]
  },
  {
   "cell_type": "markdown",
   "metadata": {},
   "source": [
    "## Open ads"
   ]
  },
  {
   "cell_type": "code",
   "execution_count": 38,
   "metadata": {},
   "outputs": [],
   "source": [
    "df = pd.read_csv('../data/raw/open_advertising/bids-dataset-2 2/US-market/traffic_estimates_20120524_0817483.csv',\n",
    "                encoding='utf-16', delimiter='\\t')\n",
    "\n",
    "\n"
   ]
  },
  {
   "cell_type": "code",
   "execution_count": 39,
   "metadata": {},
   "outputs": [
    {
     "data": {
      "text/plain": [
       "(550, 16)"
      ]
     },
     "execution_count": 39,
     "metadata": {},
     "output_type": "execute_result"
    }
   ],
   "source": [
    "df.shape"
   ]
  },
  {
   "cell_type": "code",
   "execution_count": 40,
   "metadata": {},
   "outputs": [
    {
     "data": {
      "text/html": [
       "<div>\n",
       "<style scoped>\n",
       "    .dataframe tbody tr th:only-of-type {\n",
       "        vertical-align: middle;\n",
       "    }\n",
       "\n",
       "    .dataframe tbody tr th {\n",
       "        vertical-align: top;\n",
       "    }\n",
       "\n",
       "    .dataframe thead th {\n",
       "        text-align: right;\n",
       "    }\n",
       "</style>\n",
       "<table border=\"1\" class=\"dataframe\">\n",
       "  <thead>\n",
       "    <tr style=\"text-align: right;\">\n",
       "      <th></th>\n",
       "      <th>Campaign Name</th>\n",
       "      <th>Country</th>\n",
       "      <th>Geo Targeting</th>\n",
       "      <th>ID</th>\n",
       "      <th>Budget</th>\n",
       "      <th>Ad Group</th>\n",
       "      <th>Max. CPC</th>\n",
       "      <th>Keyword</th>\n",
       "      <th>Language</th>\n",
       "      <th>Keyword Type</th>\n",
       "      <th>Average Position</th>\n",
       "      <th>Average CPC</th>\n",
       "      <th>Clicks</th>\n",
       "      <th>CTR</th>\n",
       "      <th>Cost</th>\n",
       "      <th>Impressions</th>\n",
       "    </tr>\n",
       "  </thead>\n",
       "  <tbody>\n",
       "    <tr>\n",
       "      <th>0</th>\n",
       "      <td>Draft campaign</td>\n",
       "      <td>NaN</td>\n",
       "      <td>NaN</td>\n",
       "      <td>NaN</td>\n",
       "      <td>10000000.0</td>\n",
       "      <td>NaN</td>\n",
       "      <td>NaN</td>\n",
       "      <td>NaN</td>\n",
       "      <td>NaN</td>\n",
       "      <td>NaN</td>\n",
       "      <td>1.0</td>\n",
       "      <td>2.34</td>\n",
       "      <td>282271.56</td>\n",
       "      <td>4.2%</td>\n",
       "      <td>660762.45</td>\n",
       "      <td>6714288.0</td>\n",
       "    </tr>\n",
       "    <tr>\n",
       "      <th>1</th>\n",
       "      <td>Draft campaign</td>\n",
       "      <td>NaN</td>\n",
       "      <td>United States</td>\n",
       "      <td>2840.0</td>\n",
       "      <td>NaN</td>\n",
       "      <td>NaN</td>\n",
       "      <td>NaN</td>\n",
       "      <td>NaN</td>\n",
       "      <td>NaN</td>\n",
       "      <td>NaN</td>\n",
       "      <td>NaN</td>\n",
       "      <td>NaN</td>\n",
       "      <td>NaN</td>\n",
       "      <td>NaN</td>\n",
       "      <td>NaN</td>\n",
       "      <td>NaN</td>\n",
       "    </tr>\n",
       "  </tbody>\n",
       "</table>\n",
       "</div>"
      ],
      "text/plain": [
       "    Campaign Name  Country  Geo Targeting      ID      Budget Ad Group  \\\n",
       "0  Draft campaign      NaN            NaN     NaN  10000000.0      NaN   \n",
       "1  Draft campaign      NaN  United States  2840.0         NaN      NaN   \n",
       "\n",
       "   Max. CPC Keyword  Language Keyword Type  Average Position  Average CPC  \\\n",
       "0       NaN     NaN       NaN          NaN               1.0         2.34   \n",
       "1       NaN     NaN       NaN          NaN               NaN          NaN   \n",
       "\n",
       "      Clicks   CTR       Cost  Impressions  \n",
       "0  282271.56  4.2%  660762.45    6714288.0  \n",
       "1        NaN   NaN        NaN          NaN  "
      ]
     },
     "execution_count": 40,
     "metadata": {},
     "output_type": "execute_result"
    }
   ],
   "source": [
    "df.head(2)"
   ]
  },
  {
   "cell_type": "markdown",
   "metadata": {},
   "source": [
    "## amazon pricing"
   ]
  },
  {
   "cell_type": "code",
   "execution_count": 41,
   "metadata": {},
   "outputs": [
    {
     "data": {
      "text/plain": [
       "(6973, 14)"
      ]
     },
     "execution_count": 41,
     "metadata": {},
     "output_type": "execute_result"
    }
   ],
   "source": [
    "df = pd.read_csv('../data/raw/amazon_pricing/09-19-Amazon-Ranking-Analysis.csv')\n",
    "df.shape"
   ]
  },
  {
   "cell_type": "markdown",
   "metadata": {},
   "source": [
    "## Fb ads"
   ]
  },
  {
   "cell_type": "code",
   "execution_count": 42,
   "metadata": {},
   "outputs": [
    {
     "name": "stderr",
     "output_type": "stream",
     "text": [
      "/usr/local/Cellar/python3/3.6.4_2/Frameworks/Python.framework/Versions/3.6/lib/python3.6/site-packages/IPython/core/interactiveshell.py:3020: DtypeWarning: Columns (0) have mixed types. Specify dtype option on import or set low_memory=False.\n",
      "  interactivity=interactivity, compiler=compiler, result=result)\n"
     ]
    },
    {
     "data": {
      "text/plain": [
       "(125281, 24)"
      ]
     },
     "execution_count": 42,
     "metadata": {},
     "output_type": "execute_result"
    }
   ],
   "source": [
    "df = pd.read_csv('../data/raw/fbpac-ads/fbpac-ads-en-US.csv')\n",
    "df.shape\n"
   ]
  },
  {
   "cell_type": "code",
   "execution_count": 43,
   "metadata": {},
   "outputs": [
    {
     "data": {
      "text/html": [
       "<div>\n",
       "<style scoped>\n",
       "    .dataframe tbody tr th:only-of-type {\n",
       "        vertical-align: middle;\n",
       "    }\n",
       "\n",
       "    .dataframe tbody tr th {\n",
       "        vertical-align: top;\n",
       "    }\n",
       "\n",
       "    .dataframe thead th {\n",
       "        text-align: right;\n",
       "    }\n",
       "</style>\n",
       "<table border=\"1\" class=\"dataframe\">\n",
       "  <thead>\n",
       "    <tr style=\"text-align: right;\">\n",
       "      <th></th>\n",
       "      <th>id</th>\n",
       "      <th>html</th>\n",
       "      <th>political</th>\n",
       "      <th>not_political</th>\n",
       "      <th>title</th>\n",
       "      <th>message</th>\n",
       "      <th>thumbnail</th>\n",
       "      <th>created_at</th>\n",
       "      <th>updated_at</th>\n",
       "      <th>lang</th>\n",
       "      <th>...</th>\n",
       "      <th>suppressed</th>\n",
       "      <th>targets</th>\n",
       "      <th>advertiser</th>\n",
       "      <th>entities</th>\n",
       "      <th>page</th>\n",
       "      <th>lower_page</th>\n",
       "      <th>targetings</th>\n",
       "      <th>paid_for_by</th>\n",
       "      <th>targetedness</th>\n",
       "      <th>listbuilding_fundraising_proba</th>\n",
       "    </tr>\n",
       "  </thead>\n",
       "  <tbody>\n",
       "    <tr>\n",
       "      <th>0</th>\n",
       "      <td>23843073208290387</td>\n",
       "      <td>&lt;div class=\"_5pcr userContentWrapper\"&gt;&lt;div cla...</td>\n",
       "      <td>26</td>\n",
       "      <td>1</td>\n",
       "      <td>Richard Ojeda</td>\n",
       "      <td>&lt;p&gt;Where I come from, leaders don't eat until ...</td>\n",
       "      <td>https://pp-facebook-ads.s3.amazonaws.com/v/t1....</td>\n",
       "      <td>2018-10-19 03:06:32.454205+00</td>\n",
       "      <td>2018-10-25 17:32:38.994879+00</td>\n",
       "      <td>en-US</td>\n",
       "      <td>...</td>\n",
       "      <td>f</td>\n",
       "      <td>[{\"target\": \"Age\", \"segment\": \"27 and older\"},...</td>\n",
       "      <td>Richard Ojeda</td>\n",
       "      <td>[{\"entity\": \"West Virginians\", \"entity_type\": ...</td>\n",
       "      <td>https://www.facebook.com/Ojedaforcongress/</td>\n",
       "      <td>https://www.facebook.com/ojedaforcongress/</td>\n",
       "      <td>{\"&lt;div&gt;&lt;div class=\\\"_4-i0 _26c5\\\"&gt;&lt;div class=\\...</td>\n",
       "      <td>Committee to Elect Richard Ojeda</td>\n",
       "      <td>4.0</td>\n",
       "      <td>1.00000</td>\n",
       "    </tr>\n",
       "    <tr>\n",
       "      <th>1</th>\n",
       "      <td>23842985274260441</td>\n",
       "      <td>&lt;div class=\"_5pcr userContentWrapper\"&gt;&lt;div cla...</td>\n",
       "      <td>0</td>\n",
       "      <td>0</td>\n",
       "      <td>For Our Future FL</td>\n",
       "      <td>&lt;p&gt;You should have received your Vote-by-Mail ...</td>\n",
       "      <td>https://pp-facebook-ads.s3.amazonaws.com/v/t1....</td>\n",
       "      <td>2018-10-24 00:09:45.58062+00</td>\n",
       "      <td>2018-10-25 17:33:07.694581+00</td>\n",
       "      <td>en-US</td>\n",
       "      <td>...</td>\n",
       "      <td>f</td>\n",
       "      <td>[{\"target\": \"Age\", \"segment\": \"18 and older\"},...</td>\n",
       "      <td>For Our Future FL</td>\n",
       "      <td>[{\"entity\": \"ASAP\", \"entity_type\": \"Group\"}]</td>\n",
       "      <td>https://www.facebook.com/ForOurFutureFL/</td>\n",
       "      <td>https://www.facebook.com/forourfuturefl/</td>\n",
       "      <td>{\"&lt;div&gt;&lt;div class=\\\"_4-i0 _26c5\\\"&gt;&lt;div class=\\...</td>\n",
       "      <td>For Our Future (ForOurFuturePAC.org). Not auth...</td>\n",
       "      <td>4.0</td>\n",
       "      <td>0.22481</td>\n",
       "    </tr>\n",
       "  </tbody>\n",
       "</table>\n",
       "<p>2 rows × 24 columns</p>\n",
       "</div>"
      ],
      "text/plain": [
       "                  id                                               html  \\\n",
       "0  23843073208290387  <div class=\"_5pcr userContentWrapper\"><div cla...   \n",
       "1  23842985274260441  <div class=\"_5pcr userContentWrapper\"><div cla...   \n",
       "\n",
       "   political  not_political              title  \\\n",
       "0         26              1      Richard Ojeda   \n",
       "1          0              0  For Our Future FL   \n",
       "\n",
       "                                             message  \\\n",
       "0  <p>Where I come from, leaders don't eat until ...   \n",
       "1  <p>You should have received your Vote-by-Mail ...   \n",
       "\n",
       "                                           thumbnail  \\\n",
       "0  https://pp-facebook-ads.s3.amazonaws.com/v/t1....   \n",
       "1  https://pp-facebook-ads.s3.amazonaws.com/v/t1....   \n",
       "\n",
       "                      created_at                     updated_at   lang  \\\n",
       "0  2018-10-19 03:06:32.454205+00  2018-10-25 17:32:38.994879+00  en-US   \n",
       "1   2018-10-24 00:09:45.58062+00  2018-10-25 17:33:07.694581+00  en-US   \n",
       "\n",
       "               ...               suppressed  \\\n",
       "0              ...                        f   \n",
       "1              ...                        f   \n",
       "\n",
       "                                             targets         advertiser  \\\n",
       "0  [{\"target\": \"Age\", \"segment\": \"27 and older\"},...      Richard Ojeda   \n",
       "1  [{\"target\": \"Age\", \"segment\": \"18 and older\"},...  For Our Future FL   \n",
       "\n",
       "                                            entities  \\\n",
       "0  [{\"entity\": \"West Virginians\", \"entity_type\": ...   \n",
       "1       [{\"entity\": \"ASAP\", \"entity_type\": \"Group\"}]   \n",
       "\n",
       "                                         page  \\\n",
       "0  https://www.facebook.com/Ojedaforcongress/   \n",
       "1    https://www.facebook.com/ForOurFutureFL/   \n",
       "\n",
       "                                   lower_page  \\\n",
       "0  https://www.facebook.com/ojedaforcongress/   \n",
       "1    https://www.facebook.com/forourfuturefl/   \n",
       "\n",
       "                                          targetings  \\\n",
       "0  {\"<div><div class=\\\"_4-i0 _26c5\\\"><div class=\\...   \n",
       "1  {\"<div><div class=\\\"_4-i0 _26c5\\\"><div class=\\...   \n",
       "\n",
       "                                         paid_for_by targetedness  \\\n",
       "0                   Committee to Elect Richard Ojeda          4.0   \n",
       "1  For Our Future (ForOurFuturePAC.org). Not auth...          4.0   \n",
       "\n",
       "  listbuilding_fundraising_proba  \n",
       "0                        1.00000  \n",
       "1                        0.22481  \n",
       "\n",
       "[2 rows x 24 columns]"
      ]
     },
     "execution_count": 43,
     "metadata": {},
     "output_type": "execute_result"
    }
   ],
   "source": [
    "df.head(2)\n"
   ]
  },
  {
   "cell_type": "code",
   "execution_count": 44,
   "metadata": {},
   "outputs": [
    {
     "data": {
      "text/plain": [
       "Index(['id', 'html', 'political', 'not_political', 'title', 'message',\n",
       "       'thumbnail', 'created_at', 'updated_at', 'lang', 'images',\n",
       "       'impressions', 'political_probability', 'targeting', 'suppressed',\n",
       "       'targets', 'advertiser', 'entities', 'page', 'lower_page', 'targetings',\n",
       "       'paid_for_by', 'targetedness', 'listbuilding_fundraising_proba'],\n",
       "      dtype='object')"
      ]
     },
     "execution_count": 44,
     "metadata": {},
     "output_type": "execute_result"
    }
   ],
   "source": [
    "df.columns"
   ]
  },
  {
   "cell_type": "code",
   "execution_count": null,
   "metadata": {},
   "outputs": [],
   "source": []
  }
 ],
 "metadata": {
  "kernelspec": {
   "display_name": "Python 3",
   "language": "python",
   "name": "python3"
  },
  "language_info": {
   "codemirror_mode": {
    "name": "ipython",
    "version": 3
   },
   "file_extension": ".py",
   "mimetype": "text/x-python",
   "name": "python",
   "nbconvert_exporter": "python",
   "pygments_lexer": "ipython3",
   "version": "3.6.4"
  }
 },
 "nbformat": 4,
 "nbformat_minor": 2
}
