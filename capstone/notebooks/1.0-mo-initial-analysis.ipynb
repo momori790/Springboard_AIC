{
 "cells": [
  {
   "cell_type": "markdown",
   "metadata": {},
   "source": [
    "### Initial data analysis of SAP data"
   ]
  },
  {
   "cell_type": "code",
   "execution_count": 1,
   "metadata": {},
   "outputs": [],
   "source": [
    "import dask.dataframe as dd\n",
    "import pandas as pd\n",
    "from sklearn.ensemble import RandomForestClassifier\n",
    "from plotnine import *\n",
    "import matplotlib.pyplot as plt\n",
    "import os\n",
    "import collections\n",
    "import math\n",
    "%matplotlib inline"
   ]
  },
  {
   "cell_type": "code",
   "execution_count": 2,
   "metadata": {},
   "outputs": [],
   "source": [
    "data_dir = '../data/raw/'\n",
    "df_sales = pd.read_csv(data_dir+'sales.csv', delimiter='\\t', parse_dates=['EVENT_DATE'])\n",
    "df_cust = pd.read_csv(data_dir+'Customers.csv', delimiter='\\t')\n",
    "df_mail_train = pd.read_csv(data_dir+'Mailings1_2.csv', parse_dates=['REF_DATE'])\n",
    "df_demog = pd.read_csv(data_dir+'Demog.csv', delimiter='\\t')\n",
    "df_mail_test = pd.read_csv(data_dir+'Mailings3.txt',delimiter='\\t', parse_dates=['REF_DATE'])"
   ]
  },
  {
   "cell_type": "code",
   "execution_count": 3,
   "metadata": {},
   "outputs": [
    {
     "name": "stdout",
     "output_type": "stream",
     "text": [
      "(3420829, 4)\n"
     ]
    },
    {
     "data": {
      "text/html": [
       "<div>\n",
       "<style scoped>\n",
       "    .dataframe tbody tr th:only-of-type {\n",
       "        vertical-align: middle;\n",
       "    }\n",
       "\n",
       "    .dataframe tbody tr th {\n",
       "        vertical-align: top;\n",
       "    }\n",
       "\n",
       "    .dataframe thead th {\n",
       "        text-align: right;\n",
       "    }\n",
       "</style>\n",
       "<table border=\"1\" class=\"dataframe\">\n",
       "  <thead>\n",
       "    <tr style=\"text-align: right;\">\n",
       "      <th></th>\n",
       "      <th>EVENTID</th>\n",
       "      <th>REFID</th>\n",
       "      <th>EVENT_DATE</th>\n",
       "      <th>AMOUNT</th>\n",
       "    </tr>\n",
       "  </thead>\n",
       "  <tbody>\n",
       "    <tr>\n",
       "      <th>0</th>\n",
       "      <td>0</td>\n",
       "      <td>0</td>\n",
       "      <td>2006-12-21 12:00:00</td>\n",
       "      <td>17.907000</td>\n",
       "    </tr>\n",
       "    <tr>\n",
       "      <th>1</th>\n",
       "      <td>1</td>\n",
       "      <td>0</td>\n",
       "      <td>2006-12-25 12:00:00</td>\n",
       "      <td>17.400999</td>\n",
       "    </tr>\n",
       "    <tr>\n",
       "      <th>2</th>\n",
       "      <td>2</td>\n",
       "      <td>0</td>\n",
       "      <td>2007-01-26 12:00:00</td>\n",
       "      <td>13.277000</td>\n",
       "    </tr>\n",
       "  </tbody>\n",
       "</table>\n",
       "</div>"
      ],
      "text/plain": [
       "   EVENTID  REFID          EVENT_DATE     AMOUNT\n",
       "0        0      0 2006-12-21 12:00:00  17.907000\n",
       "1        1      0 2006-12-25 12:00:00  17.400999\n",
       "2        2      0 2007-01-26 12:00:00  13.277000"
      ]
     },
     "execution_count": 3,
     "metadata": {},
     "output_type": "execute_result"
    }
   ],
   "source": [
    "print(df_sales.shape)\n",
    "df_sales.head(3)"
   ]
  },
  {
   "cell_type": "code",
   "execution_count": 4,
   "metadata": {},
   "outputs": [
    {
     "name": "stdout",
     "output_type": "stream",
     "text": [
      "(360000, 13)\n"
     ]
    },
    {
     "data": {
      "text/html": [
       "<div>\n",
       "<style scoped>\n",
       "    .dataframe tbody tr th:only-of-type {\n",
       "        vertical-align: middle;\n",
       "    }\n",
       "\n",
       "    .dataframe tbody tr th {\n",
       "        vertical-align: top;\n",
       "    }\n",
       "\n",
       "    .dataframe thead th {\n",
       "        text-align: right;\n",
       "    }\n",
       "</style>\n",
       "<table border=\"1\" class=\"dataframe\">\n",
       "  <thead>\n",
       "    <tr style=\"text-align: right;\">\n",
       "      <th></th>\n",
       "      <th>ID</th>\n",
       "      <th>SEX</th>\n",
       "      <th>MARITAL_STATUS</th>\n",
       "      <th>GEOID</th>\n",
       "      <th>EDUCATIONNUM</th>\n",
       "      <th>OCCUPATION</th>\n",
       "      <th>DATA1</th>\n",
       "      <th>DATA2</th>\n",
       "      <th>DATA3</th>\n",
       "      <th>NOM1</th>\n",
       "      <th>NOM2</th>\n",
       "      <th>NOM3</th>\n",
       "      <th>age</th>\n",
       "    </tr>\n",
       "  </thead>\n",
       "  <tbody>\n",
       "    <tr>\n",
       "      <th>0</th>\n",
       "      <td>0</td>\n",
       "      <td>Male</td>\n",
       "      <td>Never-married</td>\n",
       "      <td>61</td>\n",
       "      <td>7</td>\n",
       "      <td>Machine-op-inspct</td>\n",
       "      <td>9.276</td>\n",
       "      <td>3.592</td>\n",
       "      <td>8.253</td>\n",
       "      <td>l</td>\n",
       "      <td>p</td>\n",
       "      <td>o</td>\n",
       "      <td>62</td>\n",
       "    </tr>\n",
       "    <tr>\n",
       "      <th>1</th>\n",
       "      <td>1</td>\n",
       "      <td>Male</td>\n",
       "      <td>Married-civ-spouse</td>\n",
       "      <td>70</td>\n",
       "      <td>3</td>\n",
       "      <td>Handlers-cleaners</td>\n",
       "      <td>5.836</td>\n",
       "      <td>4.574</td>\n",
       "      <td>5.507</td>\n",
       "      <td>u</td>\n",
       "      <td>r</td>\n",
       "      <td>x</td>\n",
       "      <td>78</td>\n",
       "    </tr>\n",
       "    <tr>\n",
       "      <th>2</th>\n",
       "      <td>2</td>\n",
       "      <td>Male</td>\n",
       "      <td>Never-married</td>\n",
       "      <td>53</td>\n",
       "      <td>7</td>\n",
       "      <td>Machine-op-inspct</td>\n",
       "      <td>8.998</td>\n",
       "      <td>4.184</td>\n",
       "      <td>8.593</td>\n",
       "      <td>n</td>\n",
       "      <td>q</td>\n",
       "      <td>o</td>\n",
       "      <td>69</td>\n",
       "    </tr>\n",
       "  </tbody>\n",
       "</table>\n",
       "</div>"
      ],
      "text/plain": [
       "   ID   SEX      MARITAL_STATUS  GEOID  EDUCATIONNUM         OCCUPATION  \\\n",
       "0   0  Male       Never-married     61             7  Machine-op-inspct   \n",
       "1   1  Male  Married-civ-spouse     70             3  Handlers-cleaners   \n",
       "2   2  Male       Never-married     53             7  Machine-op-inspct   \n",
       "\n",
       "   DATA1  DATA2  DATA3 NOM1 NOM2 NOM3  age  \n",
       "0  9.276  3.592  8.253    l    p    o   62  \n",
       "1  5.836  4.574  5.507    u    r    x   78  \n",
       "2  8.998  4.184  8.593    n    q    o   69  "
      ]
     },
     "execution_count": 4,
     "metadata": {},
     "output_type": "execute_result"
    }
   ],
   "source": [
    "print(df_cust.shape)\n",
    "df_cust.head(3)"
   ]
  },
  {
   "cell_type": "code",
   "execution_count": 5,
   "metadata": {},
   "outputs": [
    {
     "name": "stdout",
     "output_type": "stream",
     "text": [
      "(60000, 4)\n"
     ]
    },
    {
     "data": {
      "text/html": [
       "<div>\n",
       "<style scoped>\n",
       "    .dataframe tbody tr th:only-of-type {\n",
       "        vertical-align: middle;\n",
       "    }\n",
       "\n",
       "    .dataframe tbody tr th {\n",
       "        vertical-align: top;\n",
       "    }\n",
       "\n",
       "    .dataframe thead th {\n",
       "        text-align: right;\n",
       "    }\n",
       "</style>\n",
       "<table border=\"1\" class=\"dataframe\">\n",
       "  <thead>\n",
       "    <tr style=\"text-align: right;\">\n",
       "      <th></th>\n",
       "      <th>REFID</th>\n",
       "      <th>KxIndex</th>\n",
       "      <th>REF_DATE</th>\n",
       "      <th>RESPONSE</th>\n",
       "    </tr>\n",
       "  </thead>\n",
       "  <tbody>\n",
       "    <tr>\n",
       "      <th>0</th>\n",
       "      <td>0</td>\n",
       "      <td>1</td>\n",
       "      <td>2007-02-01 12:00:00</td>\n",
       "      <td>False</td>\n",
       "    </tr>\n",
       "    <tr>\n",
       "      <th>1</th>\n",
       "      <td>1</td>\n",
       "      <td>2</td>\n",
       "      <td>2007-02-01 12:00:00</td>\n",
       "      <td>False</td>\n",
       "    </tr>\n",
       "    <tr>\n",
       "      <th>2</th>\n",
       "      <td>2</td>\n",
       "      <td>3</td>\n",
       "      <td>2007-02-01 12:00:00</td>\n",
       "      <td>False</td>\n",
       "    </tr>\n",
       "  </tbody>\n",
       "</table>\n",
       "</div>"
      ],
      "text/plain": [
       "   REFID  KxIndex            REF_DATE  RESPONSE\n",
       "0      0        1 2007-02-01 12:00:00     False\n",
       "1      1        2 2007-02-01 12:00:00     False\n",
       "2      2        3 2007-02-01 12:00:00     False"
      ]
     },
     "execution_count": 5,
     "metadata": {},
     "output_type": "execute_result"
    }
   ],
   "source": [
    "print(df_mail_train.shape)\n",
    "df_mail_train.head(3)"
   ]
  },
  {
   "cell_type": "code",
   "execution_count": 6,
   "metadata": {},
   "outputs": [
    {
     "name": "stdout",
     "output_type": "stream",
     "text": [
      "(200, 21)\n"
     ]
    },
    {
     "data": {
      "text/html": [
       "<div>\n",
       "<style scoped>\n",
       "    .dataframe tbody tr th:only-of-type {\n",
       "        vertical-align: middle;\n",
       "    }\n",
       "\n",
       "    .dataframe tbody tr th {\n",
       "        vertical-align: top;\n",
       "    }\n",
       "\n",
       "    .dataframe thead th {\n",
       "        text-align: right;\n",
       "    }\n",
       "</style>\n",
       "<table border=\"1\" class=\"dataframe\">\n",
       "  <thead>\n",
       "    <tr style=\"text-align: right;\">\n",
       "      <th></th>\n",
       "      <th>GEOID</th>\n",
       "      <th>INHABITANTS_K</th>\n",
       "      <th>INCOME_K</th>\n",
       "      <th>A_VAR1</th>\n",
       "      <th>A_VAR2</th>\n",
       "      <th>A_VAR3</th>\n",
       "      <th>A_VAR4</th>\n",
       "      <th>A_VAR5</th>\n",
       "      <th>A_VAR6</th>\n",
       "      <th>A_VAR7</th>\n",
       "      <th>...</th>\n",
       "      <th>A_VAR9</th>\n",
       "      <th>A_VAR10</th>\n",
       "      <th>A_VAR11</th>\n",
       "      <th>A_VAR12</th>\n",
       "      <th>A_VAR13</th>\n",
       "      <th>A_VAR14</th>\n",
       "      <th>A_VAR15</th>\n",
       "      <th>A_VAR16</th>\n",
       "      <th>A_VAR17</th>\n",
       "      <th>A_VAR18</th>\n",
       "    </tr>\n",
       "  </thead>\n",
       "  <tbody>\n",
       "    <tr>\n",
       "      <th>0</th>\n",
       "      <td>0</td>\n",
       "      <td>30.046</td>\n",
       "      <td>2631.468018</td>\n",
       "      <td>6.084</td>\n",
       "      <td>5.790</td>\n",
       "      <td>8.595</td>\n",
       "      <td>3.935</td>\n",
       "      <td>6.362</td>\n",
       "      <td>8.626</td>\n",
       "      <td>4.624</td>\n",
       "      <td>...</td>\n",
       "      <td>5.233</td>\n",
       "      <td>6.232</td>\n",
       "      <td>5.205</td>\n",
       "      <td>8.231</td>\n",
       "      <td>6.746</td>\n",
       "      <td>8.679</td>\n",
       "      <td>5.292</td>\n",
       "      <td>3.500</td>\n",
       "      <td>5.512</td>\n",
       "      <td>5.783</td>\n",
       "    </tr>\n",
       "    <tr>\n",
       "      <th>1</th>\n",
       "      <td>1</td>\n",
       "      <td>36.250</td>\n",
       "      <td>3012.745117</td>\n",
       "      <td>4.604</td>\n",
       "      <td>8.309</td>\n",
       "      <td>6.007</td>\n",
       "      <td>5.938</td>\n",
       "      <td>8.773</td>\n",
       "      <td>3.579</td>\n",
       "      <td>6.349</td>\n",
       "      <td>...</td>\n",
       "      <td>6.884</td>\n",
       "      <td>7.062</td>\n",
       "      <td>7.319</td>\n",
       "      <td>3.720</td>\n",
       "      <td>6.405</td>\n",
       "      <td>7.202</td>\n",
       "      <td>4.932</td>\n",
       "      <td>7.969</td>\n",
       "      <td>8.150</td>\n",
       "      <td>5.633</td>\n",
       "    </tr>\n",
       "    <tr>\n",
       "      <th>2</th>\n",
       "      <td>2</td>\n",
       "      <td>47.645</td>\n",
       "      <td>2192.410889</td>\n",
       "      <td>4.911</td>\n",
       "      <td>8.557</td>\n",
       "      <td>5.934</td>\n",
       "      <td>6.494</td>\n",
       "      <td>9.172</td>\n",
       "      <td>3.202</td>\n",
       "      <td>6.157</td>\n",
       "      <td>...</td>\n",
       "      <td>7.942</td>\n",
       "      <td>7.901</td>\n",
       "      <td>7.928</td>\n",
       "      <td>2.330</td>\n",
       "      <td>6.029</td>\n",
       "      <td>6.455</td>\n",
       "      <td>4.720</td>\n",
       "      <td>8.564</td>\n",
       "      <td>8.342</td>\n",
       "      <td>4.938</td>\n",
       "    </tr>\n",
       "  </tbody>\n",
       "</table>\n",
       "<p>3 rows × 21 columns</p>\n",
       "</div>"
      ],
      "text/plain": [
       "   GEOID  INHABITANTS_K     INCOME_K  A_VAR1  A_VAR2  A_VAR3  A_VAR4  A_VAR5  \\\n",
       "0      0         30.046  2631.468018   6.084   5.790   8.595   3.935   6.362   \n",
       "1      1         36.250  3012.745117   4.604   8.309   6.007   5.938   8.773   \n",
       "2      2         47.645  2192.410889   4.911   8.557   5.934   6.494   9.172   \n",
       "\n",
       "   A_VAR6  A_VAR7   ...     A_VAR9  A_VAR10  A_VAR11  A_VAR12  A_VAR13  \\\n",
       "0   8.626   4.624   ...      5.233    6.232    5.205    8.231    6.746   \n",
       "1   3.579   6.349   ...      6.884    7.062    7.319    3.720    6.405   \n",
       "2   3.202   6.157   ...      7.942    7.901    7.928    2.330    6.029   \n",
       "\n",
       "   A_VAR14  A_VAR15  A_VAR16  A_VAR17  A_VAR18  \n",
       "0    8.679    5.292    3.500    5.512    5.783  \n",
       "1    7.202    4.932    7.969    8.150    5.633  \n",
       "2    6.455    4.720    8.564    8.342    4.938  \n",
       "\n",
       "[3 rows x 21 columns]"
      ]
     },
     "execution_count": 6,
     "metadata": {},
     "output_type": "execute_result"
    }
   ],
   "source": [
    "print(df_demog.shape)\n",
    "df_demog.head(3)"
   ]
  },
  {
   "cell_type": "code",
   "execution_count": 7,
   "metadata": {},
   "outputs": [
    {
     "name": "stdout",
     "output_type": "stream",
     "text": [
      "(300000, 3)\n"
     ]
    },
    {
     "data": {
      "text/html": [
       "<div>\n",
       "<style scoped>\n",
       "    .dataframe tbody tr th:only-of-type {\n",
       "        vertical-align: middle;\n",
       "    }\n",
       "\n",
       "    .dataframe tbody tr th {\n",
       "        vertical-align: top;\n",
       "    }\n",
       "\n",
       "    .dataframe thead th {\n",
       "        text-align: right;\n",
       "    }\n",
       "</style>\n",
       "<table border=\"1\" class=\"dataframe\">\n",
       "  <thead>\n",
       "    <tr style=\"text-align: right;\">\n",
       "      <th></th>\n",
       "      <th>REFID</th>\n",
       "      <th>REF_DATE</th>\n",
       "      <th>RESPONSE</th>\n",
       "    </tr>\n",
       "  </thead>\n",
       "  <tbody>\n",
       "    <tr>\n",
       "      <th>0</th>\n",
       "      <td>60000</td>\n",
       "      <td>2007-07-01 12:00:00</td>\n",
       "      <td>False</td>\n",
       "    </tr>\n",
       "    <tr>\n",
       "      <th>1</th>\n",
       "      <td>60001</td>\n",
       "      <td>2007-07-01 12:00:00</td>\n",
       "      <td>False</td>\n",
       "    </tr>\n",
       "    <tr>\n",
       "      <th>2</th>\n",
       "      <td>60002</td>\n",
       "      <td>2007-07-01 12:00:00</td>\n",
       "      <td>False</td>\n",
       "    </tr>\n",
       "  </tbody>\n",
       "</table>\n",
       "</div>"
      ],
      "text/plain": [
       "   REFID            REF_DATE  RESPONSE\n",
       "0  60000 2007-07-01 12:00:00     False\n",
       "1  60001 2007-07-01 12:00:00     False\n",
       "2  60002 2007-07-01 12:00:00     False"
      ]
     },
     "execution_count": 7,
     "metadata": {},
     "output_type": "execute_result"
    }
   ],
   "source": [
    "print(df_mail_test.shape)\n",
    "df_mail_test.head(3)"
   ]
  },
  {
   "cell_type": "markdown",
   "metadata": {},
   "source": [
    "### Chcking for quality of data\n",
    "\n",
    "- does any of the data have any missing values?\n",
    "- do all GEOID in customers data exist in the demographic data?\n",
    "- do all REFIDs in sales data exist as the ID in customers data?\n",
    "- do all REFID in mail data exist as ID in the customers' data?\n",
    "\n",
    "We notice from below that there are some values in customers data that is missing.  After digging further, there are 131 values missing from the NOM1 column, which is a categorical feature.  For this, we prepare two different approaches and see which one does better:\n",
    "- Remove the 131 rows because it's a very small sample of the data\n",
    "- Use a RF classifier to fill in the NOM1 values \n",
    "    - A RF was used here because of it's ability to fit to the training data very well. \n"
   ]
  },
  {
   "cell_type": "code",
   "execution_count": 8,
   "metadata": {},
   "outputs": [
    {
     "name": "stdout",
     "output_type": "stream",
     "text": [
      "any sales data values missing? False\n",
      "any customer data values missing? True\n",
      "any demographic data values missing? False\n",
      "any mail_train data values missing? False\n",
      "any mail_test data values missing? False\n"
     ]
    }
   ],
   "source": [
    "# does any of the data have any missing values?\n",
    "print('any sales data values missing? {}'.format(df_sales.isnull().values.any()))\n",
    "print('any customer data values missing? {}'.format(df_cust.isnull().values.any()))\n",
    "print('any demographic data values missing? {}'.format(df_demog.isnull().values.any()))\n",
    "print('any mail_train data values missing? {}'.format(df_mail_train.isnull().values.any()))\n",
    "print('any mail_test data values missing? {}'.format(df_mail_test.isnull().values.any()))"
   ]
  },
  {
   "cell_type": "code",
   "execution_count": 9,
   "metadata": {},
   "outputs": [
    {
     "data": {
      "text/plain": [
       "ID                False\n",
       "SEX               False\n",
       "MARITAL_STATUS    False\n",
       "GEOID             False\n",
       "EDUCATIONNUM      False\n",
       "OCCUPATION        False\n",
       "DATA1             False\n",
       "DATA2             False\n",
       "DATA3             False\n",
       "NOM1               True\n",
       "NOM2              False\n",
       "NOM3              False\n",
       "age               False\n",
       "dtype: bool"
      ]
     },
     "execution_count": 9,
     "metadata": {},
     "output_type": "execute_result"
    }
   ],
   "source": [
    "# checking on missing customer data\n",
    "df_cust.isnull().any()"
   ]
  },
  {
   "cell_type": "code",
   "execution_count": 10,
   "metadata": {},
   "outputs": [
    {
     "data": {
      "text/plain": [
       "131"
      ]
     },
     "execution_count": 10,
     "metadata": {},
     "output_type": "execute_result"
    }
   ],
   "source": [
    "# How many nans are in NOM1?\n",
    "sum(df_cust.NOM1.isnull())"
   ]
  },
  {
   "cell_type": "code",
   "execution_count": 11,
   "metadata": {},
   "outputs": [],
   "source": [
    "df_cust_null_dropped = df_cust[~df_cust.NOM1.isnull()]\n",
    "df_cust_null_dropped.to_csv('../data/raw/customers_dropped_null.csv', index=False)"
   ]
  },
  {
   "cell_type": "code",
   "execution_count": 97,
   "metadata": {},
   "outputs": [
    {
     "data": {
      "image/png": "[encoded data removed]",
      "text/plain": [
       "<Figure size 1440x576 with 1 Axes>"
      ]
     },
     "metadata": {
      "needs_background": "light"
     },
     "output_type": "display_data"
    }
   ],
   "source": [
    "ax = df_cust.groupby('NOM1').size().to_frame('count').plot(kind='bar', figsize=(20,8), fontsize=15)\n"
   ]
  },
  {
   "cell_type": "code",
   "execution_count": 13,
   "metadata": {},
   "outputs": [
    {
     "name": "stdout",
     "output_type": "stream",
     "text": [
      "are all customer GEOID data in DEMOG dataset? True\n"
     ]
    }
   ],
   "source": [
    "# do all GEOID in customers data exist in the demographic data?\n",
    "print('are all customer GEOID data in DEMOG dataset? {}'.format(all(df_cust.GEOID.isin(df_demog.GEOID.values))))"
   ]
  },
  {
   "cell_type": "code",
   "execution_count": 14,
   "metadata": {},
   "outputs": [
    {
     "name": "stdout",
     "output_type": "stream",
     "text": [
      "are all REFIDs in sales exist in customer data? True\n"
     ]
    }
   ],
   "source": [
    "# do all REFIDs in sales data exist as the ID in customers data?\n",
    "print('are all REFIDs in sales exist in customer data? {}'.format(all(df_sales.REFID.isin(df_cust.ID.values))))"
   ]
  },
  {
   "cell_type": "code",
   "execution_count": 15,
   "metadata": {},
   "outputs": [
    {
     "name": "stdout",
     "output_type": "stream",
     "text": [
      "are all mail REFID in customers data? True\n"
     ]
    }
   ],
   "source": [
    "# do all REFID in mail data exist as ID in the customers' data?\n",
    "print('are all mail REFID in customers data? {}'.format(all(pd.concat([df_mail_train.REFID, df_mail_test.REFID]).isin(df_cust.ID))))"
   ]
  },
  {
   "cell_type": "markdown",
   "metadata": {},
   "source": [
    "### Using a RF classifier to fill in remaining NOM1 values\n",
    "\n",
    "To create the training dataset, we do the following steps:\n",
    "- keep the NOM1 column separately\n",
    "- dummy the rest of the dataframe, then append the NOM1 colum to the end.\n",
    "- Split the dataset into train and test, where train are the rows there NOM1 != null, and test is the rest.\n",
    "- Fit a RF classifier to the training data, and use it to predict the NOM1 values for the testing."
   ]
  },
  {
   "cell_type": "code",
   "execution_count": 16,
   "metadata": {},
   "outputs": [
    {
     "data": {
      "text/plain": [
       "(360000, 84)"
      ]
     },
     "execution_count": 16,
     "metadata": {},
     "output_type": "execute_result"
    }
   ],
   "source": [
    "nom1_values = df_cust.NOM1\n",
    "df_cust_dummied = pd.concat([pd.get_dummies(df_cust.drop('NOM1',axis=1)), nom1_values],axis=1)\n",
    "df_cust_dummied.shape"
   ]
  },
  {
   "cell_type": "code",
   "execution_count": 17,
   "metadata": {},
   "outputs": [
    {
     "data": {
      "text/plain": [
       "((359869, 84), (131, 84))"
      ]
     },
     "execution_count": 17,
     "metadata": {},
     "output_type": "execute_result"
    }
   ],
   "source": [
    "train_data = df_cust_dummied[~df_cust_dummied.NOM1.isnull()]\n",
    "test_data = df_cust_dummied[df_cust_dummied.NOM1.isnull()]\n",
    "train_data.shape, test_data.shape"
   ]
  },
  {
   "cell_type": "code",
   "execution_count": 18,
   "metadata": {},
   "outputs": [],
   "source": [
    "train_x = train_data.drop('NOM1', axis=1)\n",
    "train_y = train_data['NOM1']\n",
    "test_x = test_data.drop('NOM1', axis=1)"
   ]
  },
  {
   "cell_type": "code",
   "execution_count": 22,
   "metadata": {},
   "outputs": [],
   "source": [
    "clf = RandomForestClassifier()"
   ]
  },
  {
   "cell_type": "code",
   "execution_count": 23,
   "metadata": {},
   "outputs": [
    {
     "name": "stderr",
     "output_type": "stream",
     "text": [
      "/usr/local/Cellar/python3/3.6.4_2/Frameworks/Python.framework/Versions/3.6/lib/python3.6/site-packages/sklearn/ensemble/forest.py:246: FutureWarning: The default value of n_estimators will change from 10 in version 0.20 to 100 in 0.22.\n",
      "  \"10 in version 0.20 to 100 in 0.22.\", FutureWarning)\n"
     ]
    },
    {
     "data": {
      "text/plain": [
       "RandomForestClassifier(bootstrap=True, class_weight=None, criterion='gini',\n",
       "            max_depth=None, max_features='auto', max_leaf_nodes=None,\n",
       "            min_impurity_decrease=0.0, min_impurity_split=None,\n",
       "            min_samples_leaf=1, min_samples_split=2,\n",
       "            min_weight_fraction_leaf=0.0, n_estimators=10, n_jobs=None,\n",
       "            oob_score=False, random_state=None, verbose=0,\n",
       "            warm_start=False)"
      ]
     },
     "execution_count": 23,
     "metadata": {},
     "output_type": "execute_result"
    }
   ],
   "source": [
    "clf.fit(train_x, train_y)"
   ]
  },
  {
   "cell_type": "code",
   "execution_count": 24,
   "metadata": {},
   "outputs": [],
   "source": [
    "predictions = clf.predict(test_x)"
   ]
  },
  {
   "cell_type": "code",
   "execution_count": 25,
   "metadata": {},
   "outputs": [],
   "source": [
    "# Fill in the nan values\n",
    "for i,index in enumerate(test_data.index):\n",
    "    df_cust.loc[index, 'NOM1'] = predictions[i]"
   ]
  },
  {
   "cell_type": "code",
   "execution_count": 26,
   "metadata": {},
   "outputs": [
    {
     "name": "stdout",
     "output_type": "stream",
     "text": [
      "any NOM1 values null? False\n"
     ]
    }
   ],
   "source": [
    "print('any NOM1 values null? {}'.format(any(df_cust.NOM1.isnull())))"
   ]
  },
  {
   "cell_type": "code",
   "execution_count": 27,
   "metadata": {},
   "outputs": [],
   "source": [
    "df_cust.to_csv('../data/raw/customers_fill_nan.csv',index=False)"
   ]
  },
  {
   "cell_type": "markdown",
   "metadata": {},
   "source": [
    "## Sales Data Analysis\n",
    "\n",
    "Since we already know that there are no missing values in this dataframe, we will visualize any trends in the sales patterns and amounts."
   ]
  },
  {
   "cell_type": "code",
   "execution_count": 28,
   "metadata": {},
   "outputs": [
    {
     "data": {
      "text/html": [
       "<div>\n",
       "<style scoped>\n",
       "    .dataframe tbody tr th:only-of-type {\n",
       "        vertical-align: middle;\n",
       "    }\n",
       "\n",
       "    .dataframe tbody tr th {\n",
       "        vertical-align: top;\n",
       "    }\n",
       "\n",
       "    .dataframe thead th {\n",
       "        text-align: right;\n",
       "    }\n",
       "</style>\n",
       "<table border=\"1\" class=\"dataframe\">\n",
       "  <thead>\n",
       "    <tr style=\"text-align: right;\">\n",
       "      <th></th>\n",
       "      <th>EVENTID</th>\n",
       "      <th>REFID</th>\n",
       "      <th>EVENT_DATE</th>\n",
       "      <th>AMOUNT</th>\n",
       "    </tr>\n",
       "  </thead>\n",
       "  <tbody>\n",
       "    <tr>\n",
       "      <th>0</th>\n",
       "      <td>0</td>\n",
       "      <td>0</td>\n",
       "      <td>2006-12-21 12:00:00</td>\n",
       "      <td>17.907000</td>\n",
       "    </tr>\n",
       "    <tr>\n",
       "      <th>1</th>\n",
       "      <td>1</td>\n",
       "      <td>0</td>\n",
       "      <td>2006-12-25 12:00:00</td>\n",
       "      <td>17.400999</td>\n",
       "    </tr>\n",
       "  </tbody>\n",
       "</table>\n",
       "</div>"
      ],
      "text/plain": [
       "   EVENTID  REFID          EVENT_DATE     AMOUNT\n",
       "0        0      0 2006-12-21 12:00:00  17.907000\n",
       "1        1      0 2006-12-25 12:00:00  17.400999"
      ]
     },
     "execution_count": 28,
     "metadata": {},
     "output_type": "execute_result"
    }
   ],
   "source": [
    "df_sales.head(2)"
   ]
  },
  {
   "cell_type": "code",
   "execution_count": 29,
   "metadata": {},
   "outputs": [
    {
     "data": {
      "text/html": [
       "<div>\n",
       "<style scoped>\n",
       "    .dataframe tbody tr th:only-of-type {\n",
       "        vertical-align: middle;\n",
       "    }\n",
       "\n",
       "    .dataframe tbody tr th {\n",
       "        vertical-align: top;\n",
       "    }\n",
       "\n",
       "    .dataframe thead th {\n",
       "        text-align: right;\n",
       "    }\n",
       "</style>\n",
       "<table border=\"1\" class=\"dataframe\">\n",
       "  <thead>\n",
       "    <tr style=\"text-align: right;\">\n",
       "      <th></th>\n",
       "      <th>year</th>\n",
       "      <th>month</th>\n",
       "      <th>day</th>\n",
       "      <th>count</th>\n",
       "    </tr>\n",
       "  </thead>\n",
       "  <tbody>\n",
       "    <tr>\n",
       "      <th>0</th>\n",
       "      <td>2006</td>\n",
       "      <td>11</td>\n",
       "      <td>9</td>\n",
       "      <td>3369</td>\n",
       "    </tr>\n",
       "    <tr>\n",
       "      <th>1</th>\n",
       "      <td>2006</td>\n",
       "      <td>11</td>\n",
       "      <td>10</td>\n",
       "      <td>3412</td>\n",
       "    </tr>\n",
       "  </tbody>\n",
       "</table>\n",
       "</div>"
      ],
      "text/plain": [
       "   year  month  day  count\n",
       "0  2006     11    9   3369\n",
       "1  2006     11   10   3412"
      ]
     },
     "execution_count": 29,
     "metadata": {},
     "output_type": "execute_result"
    }
   ],
   "source": [
    "sales_by_day = df_sales.groupby([df_sales.EVENT_DATE.dt.year, df_sales.EVENT_DATE.dt.month, df_sales.EVENT_DATE.dt.day], as_index=False).size()\n",
    "sales_by_day = sales_by_day.to_frame('count')\n",
    "sales_by_day.index = sales_by_day.index.set_names(['year','month','day'])\n",
    "sales_by_day.reset_index(inplace=True)\n",
    "sales_by_day.head(2)"
   ]
  },
  {
   "cell_type": "code",
   "execution_count": 30,
   "metadata": {},
   "outputs": [],
   "source": [
    "df_sales_grouped = df_sales.groupby('EVENT_DATE').size().to_frame('count')"
   ]
  },
  {
   "cell_type": "code",
   "execution_count": 31,
   "metadata": {},
   "outputs": [
    {
     "data": {
      "image/png": "[encoded data removed]",
      "text/plain": [
       "<Figure size 1440x720 with 1 Axes>"
      ]
     },
     "metadata": {
      "needs_background": "light"
     },
     "output_type": "display_data"
    }
   ],
   "source": [
    "fig, ax = plt.subplots(figsize=(20,10))\n",
    "plt.plot(df_sales_grouped.index, df_sales_grouped['count'])\n",
    "plt.xticks(rotation='vertical', fontsize=15)\n",
    "plt.yticks(fontsize=15)\n",
    "plt.title('# of sales')\n",
    "plt.ylabel('count')\n",
    "plt.xlabel('date')\n",
    "plt.show()"
   ]
  },
  {
   "cell_type": "code",
   "execution_count": 32,
   "metadata": {},
   "outputs": [
    {
     "data": {
      "image/png": "[encoded data removed]",
      "text/plain": [
       "<Figure size 1440x720 with 1 Axes>"
      ]
     },
     "metadata": {
      "needs_background": "light"
     },
     "output_type": "display_data"
    }
   ],
   "source": [
    "avg_transaction_value = df_sales[['EVENT_DATE', 'AMOUNT']].groupby(\"EVENT_DATE\").mean()\n",
    "fig, ax = plt.subplots(figsize=(20,10))\n",
    "plt.plot(avg_transaction_value.index, avg_transaction_value['AMOUNT'])\n",
    "plt.xticks(rotation='vertical', fontsize=15)\n",
    "plt.yticks(fontsize=15)\n",
    "plt.title('avg transaction value per day')\n",
    "plt.ylabel('avg transaction value')\n",
    "plt.xlabel('date')\n",
    "plt.show()"
   ]
  },
  {
   "cell_type": "markdown",
   "metadata": {},
   "source": [
    "Notice that there is no march data for 2007.  And we see two spikes in number of transactions: \n",
    "- small spike in January 2006 which ended in Feburary 2006\n",
    "- Big spike in April 2007 which stayed\n",
    "\n",
    "The average transaction amount has not changed, so these spikes were not caused by any price changes.  Most likely they were caused by targeted advertising/campaigns to attract customers."
   ]
  },
  {
   "cell_type": "markdown",
   "metadata": {},
   "source": [
    "## Mail Training Sample Analysis\n",
    "\n",
    "Since there are no missing values in the email dataset, we are going to analyze the frequency and the responses of the emails."
   ]
  },
  {
   "cell_type": "code",
   "execution_count": 33,
   "metadata": {},
   "outputs": [
    {
     "data": {
      "text/html": [
       "<div>\n",
       "<style scoped>\n",
       "    .dataframe tbody tr th:only-of-type {\n",
       "        vertical-align: middle;\n",
       "    }\n",
       "\n",
       "    .dataframe tbody tr th {\n",
       "        vertical-align: top;\n",
       "    }\n",
       "\n",
       "    .dataframe thead th {\n",
       "        text-align: right;\n",
       "    }\n",
       "</style>\n",
       "<table border=\"1\" class=\"dataframe\">\n",
       "  <thead>\n",
       "    <tr style=\"text-align: right;\">\n",
       "      <th></th>\n",
       "      <th>REFID</th>\n",
       "      <th>KxIndex</th>\n",
       "      <th>REF_DATE</th>\n",
       "      <th>RESPONSE</th>\n",
       "    </tr>\n",
       "  </thead>\n",
       "  <tbody>\n",
       "    <tr>\n",
       "      <th>0</th>\n",
       "      <td>0</td>\n",
       "      <td>1</td>\n",
       "      <td>2007-02-01 12:00:00</td>\n",
       "      <td>False</td>\n",
       "    </tr>\n",
       "    <tr>\n",
       "      <th>1</th>\n",
       "      <td>1</td>\n",
       "      <td>2</td>\n",
       "      <td>2007-02-01 12:00:00</td>\n",
       "      <td>False</td>\n",
       "    </tr>\n",
       "  </tbody>\n",
       "</table>\n",
       "</div>"
      ],
      "text/plain": [
       "   REFID  KxIndex            REF_DATE  RESPONSE\n",
       "0      0        1 2007-02-01 12:00:00     False\n",
       "1      1        2 2007-02-01 12:00:00     False"
      ]
     },
     "execution_count": 33,
     "metadata": {},
     "output_type": "execute_result"
    }
   ],
   "source": [
    "df_mail_train.head(2)"
   ]
  },
  {
   "cell_type": "code",
   "execution_count": 34,
   "metadata": {},
   "outputs": [
    {
     "data": {
      "text/plain": [
       "array(['2007-02-01T12:00:00.000000000', '2007-03-01T12:00:00.000000000'],\n",
       "      dtype='datetime64[ns]')"
      ]
     },
     "execution_count": 34,
     "metadata": {},
     "output_type": "execute_result"
    }
   ],
   "source": [
    "df_mail_train.REF_DATE.unique()"
   ]
  },
  {
   "cell_type": "code",
   "execution_count": 35,
   "metadata": {},
   "outputs": [],
   "source": [
    "df_mail_grouped = df_mail_train[['REF_DATE','RESPONSE']].groupby(\"REF_DATE\")\n",
    "sent_mail_by_day = df_mail_grouped.size().to_frame('count')\n",
    "resp_rate_by_day = df_mail_grouped.mean()"
   ]
  },
  {
   "cell_type": "code",
   "execution_count": 36,
   "metadata": {},
   "outputs": [
    {
     "data": {
      "text/html": [
       "<div>\n",
       "<style scoped>\n",
       "    .dataframe tbody tr th:only-of-type {\n",
       "        vertical-align: middle;\n",
       "    }\n",
       "\n",
       "    .dataframe tbody tr th {\n",
       "        vertical-align: top;\n",
       "    }\n",
       "\n",
       "    .dataframe thead th {\n",
       "        text-align: right;\n",
       "    }\n",
       "</style>\n",
       "<table border=\"1\" class=\"dataframe\">\n",
       "  <thead>\n",
       "    <tr style=\"text-align: right;\">\n",
       "      <th></th>\n",
       "      <th>count</th>\n",
       "    </tr>\n",
       "    <tr>\n",
       "      <th>REF_DATE</th>\n",
       "      <th></th>\n",
       "    </tr>\n",
       "  </thead>\n",
       "  <tbody>\n",
       "    <tr>\n",
       "      <th>2007-02-01 12:00:00</th>\n",
       "      <td>30000</td>\n",
       "    </tr>\n",
       "    <tr>\n",
       "      <th>2007-03-01 12:00:00</th>\n",
       "      <td>30000</td>\n",
       "    </tr>\n",
       "  </tbody>\n",
       "</table>\n",
       "</div>"
      ],
      "text/plain": [
       "                     count\n",
       "REF_DATE                  \n",
       "2007-02-01 12:00:00  30000\n",
       "2007-03-01 12:00:00  30000"
      ]
     },
     "execution_count": 36,
     "metadata": {},
     "output_type": "execute_result"
    }
   ],
   "source": [
    "sent_mail_by_day.head()"
   ]
  },
  {
   "cell_type": "code",
   "execution_count": 37,
   "metadata": {},
   "outputs": [
    {
     "data": {
      "text/html": [
       "<div>\n",
       "<style scoped>\n",
       "    .dataframe tbody tr th:only-of-type {\n",
       "        vertical-align: middle;\n",
       "    }\n",
       "\n",
       "    .dataframe tbody tr th {\n",
       "        vertical-align: top;\n",
       "    }\n",
       "\n",
       "    .dataframe thead th {\n",
       "        text-align: right;\n",
       "    }\n",
       "</style>\n",
       "<table border=\"1\" class=\"dataframe\">\n",
       "  <thead>\n",
       "    <tr style=\"text-align: right;\">\n",
       "      <th></th>\n",
       "      <th>RESPONSE</th>\n",
       "    </tr>\n",
       "    <tr>\n",
       "      <th>REF_DATE</th>\n",
       "      <th></th>\n",
       "    </tr>\n",
       "  </thead>\n",
       "  <tbody>\n",
       "    <tr>\n",
       "      <th>2007-02-01 12:00:00</th>\n",
       "      <td>0.0510</td>\n",
       "    </tr>\n",
       "    <tr>\n",
       "      <th>2007-03-01 12:00:00</th>\n",
       "      <td>0.0488</td>\n",
       "    </tr>\n",
       "  </tbody>\n",
       "</table>\n",
       "</div>"
      ],
      "text/plain": [
       "                     RESPONSE\n",
       "REF_DATE                     \n",
       "2007-02-01 12:00:00    0.0510\n",
       "2007-03-01 12:00:00    0.0488"
      ]
     },
     "execution_count": 37,
     "metadata": {},
     "output_type": "execute_result"
    }
   ],
   "source": [
    "resp_rate_by_day.head()"
   ]
  },
  {
   "cell_type": "markdown",
   "metadata": {},
   "source": [
    "This dataset explains that the company did do some email marketing during Feburary and March of 2007.  That explains the spike we saw in the sales data.  Since there is not much content in this dataset, we will have to combine this with the demographic dataset and analyze further if certain customer segments are more likely to respond to emails."
   ]
  },
  {
   "cell_type": "markdown",
   "metadata": {},
   "source": [
    "## Demographic data analysis\n",
    "\n",
    "We'd like to understand if the email campaigns worked on certain demographics.  So we will join the demographic dataset with the emails and customers dataset to analyze further. "
   ]
  },
  {
   "cell_type": "code",
   "execution_count": 38,
   "metadata": {},
   "outputs": [
    {
     "data": {
      "text/html": [
       "<div>\n",
       "<style scoped>\n",
       "    .dataframe tbody tr th:only-of-type {\n",
       "        vertical-align: middle;\n",
       "    }\n",
       "\n",
       "    .dataframe tbody tr th {\n",
       "        vertical-align: top;\n",
       "    }\n",
       "\n",
       "    .dataframe thead th {\n",
       "        text-align: right;\n",
       "    }\n",
       "</style>\n",
       "<table border=\"1\" class=\"dataframe\">\n",
       "  <thead>\n",
       "    <tr style=\"text-align: right;\">\n",
       "      <th></th>\n",
       "      <th>GEOID</th>\n",
       "      <th>INHABITANTS_K</th>\n",
       "      <th>INCOME_K</th>\n",
       "      <th>A_VAR1</th>\n",
       "      <th>A_VAR2</th>\n",
       "      <th>A_VAR3</th>\n",
       "      <th>A_VAR4</th>\n",
       "      <th>A_VAR5</th>\n",
       "      <th>A_VAR6</th>\n",
       "      <th>A_VAR7</th>\n",
       "      <th>...</th>\n",
       "      <th>A_VAR9</th>\n",
       "      <th>A_VAR10</th>\n",
       "      <th>A_VAR11</th>\n",
       "      <th>A_VAR12</th>\n",
       "      <th>A_VAR13</th>\n",
       "      <th>A_VAR14</th>\n",
       "      <th>A_VAR15</th>\n",
       "      <th>A_VAR16</th>\n",
       "      <th>A_VAR17</th>\n",
       "      <th>A_VAR18</th>\n",
       "    </tr>\n",
       "  </thead>\n",
       "  <tbody>\n",
       "    <tr>\n",
       "      <th>0</th>\n",
       "      <td>0</td>\n",
       "      <td>30.046</td>\n",
       "      <td>2631.468018</td>\n",
       "      <td>6.084</td>\n",
       "      <td>5.790</td>\n",
       "      <td>8.595</td>\n",
       "      <td>3.935</td>\n",
       "      <td>6.362</td>\n",
       "      <td>8.626</td>\n",
       "      <td>4.624</td>\n",
       "      <td>...</td>\n",
       "      <td>5.233</td>\n",
       "      <td>6.232</td>\n",
       "      <td>5.205</td>\n",
       "      <td>8.231</td>\n",
       "      <td>6.746</td>\n",
       "      <td>8.679</td>\n",
       "      <td>5.292</td>\n",
       "      <td>3.500</td>\n",
       "      <td>5.512</td>\n",
       "      <td>5.783</td>\n",
       "    </tr>\n",
       "    <tr>\n",
       "      <th>1</th>\n",
       "      <td>1</td>\n",
       "      <td>36.250</td>\n",
       "      <td>3012.745117</td>\n",
       "      <td>4.604</td>\n",
       "      <td>8.309</td>\n",
       "      <td>6.007</td>\n",
       "      <td>5.938</td>\n",
       "      <td>8.773</td>\n",
       "      <td>3.579</td>\n",
       "      <td>6.349</td>\n",
       "      <td>...</td>\n",
       "      <td>6.884</td>\n",
       "      <td>7.062</td>\n",
       "      <td>7.319</td>\n",
       "      <td>3.720</td>\n",
       "      <td>6.405</td>\n",
       "      <td>7.202</td>\n",
       "      <td>4.932</td>\n",
       "      <td>7.969</td>\n",
       "      <td>8.150</td>\n",
       "      <td>5.633</td>\n",
       "    </tr>\n",
       "  </tbody>\n",
       "</table>\n",
       "<p>2 rows × 21 columns</p>\n",
       "</div>"
      ],
      "text/plain": [
       "   GEOID  INHABITANTS_K     INCOME_K  A_VAR1  A_VAR2  A_VAR3  A_VAR4  A_VAR5  \\\n",
       "0      0         30.046  2631.468018   6.084   5.790   8.595   3.935   6.362   \n",
       "1      1         36.250  3012.745117   4.604   8.309   6.007   5.938   8.773   \n",
       "\n",
       "   A_VAR6  A_VAR7   ...     A_VAR9  A_VAR10  A_VAR11  A_VAR12  A_VAR13  \\\n",
       "0   8.626   4.624   ...      5.233    6.232    5.205    8.231    6.746   \n",
       "1   3.579   6.349   ...      6.884    7.062    7.319    3.720    6.405   \n",
       "\n",
       "   A_VAR14  A_VAR15  A_VAR16  A_VAR17  A_VAR18  \n",
       "0    8.679    5.292    3.500    5.512    5.783  \n",
       "1    7.202    4.932    7.969    8.150    5.633  \n",
       "\n",
       "[2 rows x 21 columns]"
      ]
     },
     "execution_count": 38,
     "metadata": {},
     "output_type": "execute_result"
    }
   ],
   "source": [
    "df_demog.head(2)"
   ]
  },
  {
   "cell_type": "code",
   "execution_count": 44,
   "metadata": {},
   "outputs": [
    {
     "data": {
      "text/html": [
       "<div>\n",
       "<style scoped>\n",
       "    .dataframe tbody tr th:only-of-type {\n",
       "        vertical-align: middle;\n",
       "    }\n",
       "\n",
       "    .dataframe tbody tr th {\n",
       "        vertical-align: top;\n",
       "    }\n",
       "\n",
       "    .dataframe thead th {\n",
       "        text-align: right;\n",
       "    }\n",
       "</style>\n",
       "<table border=\"1\" class=\"dataframe\">\n",
       "  <thead>\n",
       "    <tr style=\"text-align: right;\">\n",
       "      <th></th>\n",
       "      <th>ID</th>\n",
       "      <th>SEX</th>\n",
       "      <th>MARITAL_STATUS</th>\n",
       "      <th>GEOID</th>\n",
       "      <th>EDUCATIONNUM</th>\n",
       "      <th>OCCUPATION</th>\n",
       "      <th>DATA1</th>\n",
       "      <th>DATA2</th>\n",
       "      <th>DATA3</th>\n",
       "      <th>NOM1</th>\n",
       "      <th>NOM2</th>\n",
       "      <th>NOM3</th>\n",
       "      <th>age</th>\n",
       "    </tr>\n",
       "  </thead>\n",
       "  <tbody>\n",
       "    <tr>\n",
       "      <th>0</th>\n",
       "      <td>0</td>\n",
       "      <td>Male</td>\n",
       "      <td>Never-married</td>\n",
       "      <td>61</td>\n",
       "      <td>7</td>\n",
       "      <td>Machine-op-inspct</td>\n",
       "      <td>9.276</td>\n",
       "      <td>3.592</td>\n",
       "      <td>8.253</td>\n",
       "      <td>l</td>\n",
       "      <td>p</td>\n",
       "      <td>o</td>\n",
       "      <td>62</td>\n",
       "    </tr>\n",
       "    <tr>\n",
       "      <th>1</th>\n",
       "      <td>1</td>\n",
       "      <td>Male</td>\n",
       "      <td>Married-civ-spouse</td>\n",
       "      <td>70</td>\n",
       "      <td>3</td>\n",
       "      <td>Handlers-cleaners</td>\n",
       "      <td>5.836</td>\n",
       "      <td>4.574</td>\n",
       "      <td>5.507</td>\n",
       "      <td>u</td>\n",
       "      <td>r</td>\n",
       "      <td>x</td>\n",
       "      <td>78</td>\n",
       "    </tr>\n",
       "  </tbody>\n",
       "</table>\n",
       "</div>"
      ],
      "text/plain": [
       "   ID   SEX      MARITAL_STATUS  GEOID  EDUCATIONNUM         OCCUPATION  \\\n",
       "0   0  Male       Never-married     61             7  Machine-op-inspct   \n",
       "1   1  Male  Married-civ-spouse     70             3  Handlers-cleaners   \n",
       "\n",
       "   DATA1  DATA2  DATA3 NOM1 NOM2 NOM3  age  \n",
       "0  9.276  3.592  8.253    l    p    o   62  \n",
       "1  5.836  4.574  5.507    u    r    x   78  "
      ]
     },
     "execution_count": 44,
     "metadata": {},
     "output_type": "execute_result"
    }
   ],
   "source": [
    "df_cust.head(2)"
   ]
  },
  {
   "cell_type": "code",
   "execution_count": 45,
   "metadata": {},
   "outputs": [
    {
     "data": {
      "text/html": [
       "<div>\n",
       "<style scoped>\n",
       "    .dataframe tbody tr th:only-of-type {\n",
       "        vertical-align: middle;\n",
       "    }\n",
       "\n",
       "    .dataframe tbody tr th {\n",
       "        vertical-align: top;\n",
       "    }\n",
       "\n",
       "    .dataframe thead th {\n",
       "        text-align: right;\n",
       "    }\n",
       "</style>\n",
       "<table border=\"1\" class=\"dataframe\">\n",
       "  <thead>\n",
       "    <tr style=\"text-align: right;\">\n",
       "      <th></th>\n",
       "      <th>REFID</th>\n",
       "      <th>KxIndex</th>\n",
       "      <th>REF_DATE</th>\n",
       "      <th>RESPONSE</th>\n",
       "    </tr>\n",
       "  </thead>\n",
       "  <tbody>\n",
       "    <tr>\n",
       "      <th>0</th>\n",
       "      <td>0</td>\n",
       "      <td>1</td>\n",
       "      <td>2007-02-01 12:00:00</td>\n",
       "      <td>False</td>\n",
       "    </tr>\n",
       "    <tr>\n",
       "      <th>1</th>\n",
       "      <td>1</td>\n",
       "      <td>2</td>\n",
       "      <td>2007-02-01 12:00:00</td>\n",
       "      <td>False</td>\n",
       "    </tr>\n",
       "  </tbody>\n",
       "</table>\n",
       "</div>"
      ],
      "text/plain": [
       "   REFID  KxIndex            REF_DATE  RESPONSE\n",
       "0      0        1 2007-02-01 12:00:00     False\n",
       "1      1        2 2007-02-01 12:00:00     False"
      ]
     },
     "execution_count": 45,
     "metadata": {},
     "output_type": "execute_result"
    }
   ],
   "source": [
    "df_mail_train.head(2)"
   ]
  },
  {
   "cell_type": "code",
   "execution_count": 54,
   "metadata": {},
   "outputs": [],
   "source": [
    "dd = pd.merge(df_mail_train[['REFID','RESPONSE']], df_cust[['ID','GEOID']], left_on='REFID',right_on='ID')"
   ]
  },
  {
   "cell_type": "code",
   "execution_count": 89,
   "metadata": {},
   "outputs": [
    {
     "name": "stdout",
     "output_type": "stream",
     "text": [
      "reponse rate is: 0.0499\n"
     ]
    }
   ],
   "source": [
    "df_merged = pd.merge(df_mail_train[['REFID','RESPONSE']], df_cust[['ID','GEOID']], left_on='REFID',right_on='ID')\n",
    "df_merged = pd.merge(df_merged[['RESPONSE','GEOID']], df_demog)\n",
    "print('reponse rate is: {}'.format(df_merged.RESPONSE.mean()))"
   ]
  },
  {
   "cell_type": "code",
   "execution_count": 79,
   "metadata": {},
   "outputs": [
    {
     "data": {
      "text/plain": [
       "6      1\n",
       "112    1\n",
       "116    1\n",
       "124    1\n",
       "119    1\n",
       "118    1\n",
       "3      2\n",
       "114    2\n",
       "113    2\n",
       "2      2\n",
       "Name: GEOID, dtype: int64"
      ]
     },
     "execution_count": 79,
     "metadata": {},
     "output_type": "execute_result"
    }
   ],
   "source": [
    "# Check how much emails have been sent to different demographics\n",
    "df_merged.GEOID.value_counts().sort_values().head(10)"
   ]
  },
  {
   "cell_type": "code",
   "execution_count": 85,
   "metadata": {},
   "outputs": [],
   "source": [
    "# We see that there age locations where we sent very few number of emails.  Therefore, we limit the data visualized below to \n",
    "# geoIDs where there were more than 10 emails sent.\n",
    "geoid_counts = df_merged.GEOID.value_counts()\n",
    "valid_geoids = geoid_counts[geoid_counts>10].index\n"
   ]
  },
  {
   "cell_type": "code",
   "execution_count": 93,
   "metadata": {},
   "outputs": [
    {
     "data": {
      "text/plain": [
       "Text(0.5, 1.0, 'Reponse Rate of Different GEOIDS with more than 10 emails sent')"
      ]
     },
     "execution_count": 93,
     "metadata": {},
     "output_type": "execute_result"
    },
    {
     "data": {
      "image/png": "[encoded data removed]",
      "text/plain": [
       "<Figure size 2160x720 with 1 Axes>"
      ]
     },
     "metadata": {
      "needs_background": "light"
     },
     "output_type": "display_data"
    }
   ],
   "source": [
    "ax = df_merged[df_merged.GEOID.isin(valid_geoids)][['RESPONSE','GEOID']].groupby('GEOID')\\\n",
    "            .mean().sort_values('RESPONSE', ascending=False).plot(kind='bar', figsize=(30,10),\\\n",
    "            fontsize=15)\n",
    "ax.set_ylabel(\"Response Rate\",fontsize=15)\n",
    "ax.set_xlabel(\"GEOID\",fontsize=15)\n",
    "ax.set_title('Reponse Rate of Different GEOIDS with more than 10 emails sent', fontsize=15)               "
   ]
  },
  {
   "cell_type": "markdown",
   "metadata": {},
   "source": [
    "From the bar chart above, there is a significant response rate from certain demographics (>10%).  These seem to be strong areas to send targeted emails out.  On the other hand, demographics with low resopnse rates provides an area of opportunity.  We check these parts closer."
   ]
  },
  {
   "cell_type": "markdown",
   "metadata": {},
   "source": [
    "## Demographic Data Analysis Part 2"
   ]
  },
  {
   "cell_type": "code",
   "execution_count": 96,
   "metadata": {},
   "outputs": [
    {
     "data": {
      "text/html": [
       "<div>\n",
       "<style scoped>\n",
       "    .dataframe tbody tr th:only-of-type {\n",
       "        vertical-align: middle;\n",
       "    }\n",
       "\n",
       "    .dataframe tbody tr th {\n",
       "        vertical-align: top;\n",
       "    }\n",
       "\n",
       "    .dataframe thead th {\n",
       "        text-align: right;\n",
       "    }\n",
       "</style>\n",
       "<table border=\"1\" class=\"dataframe\">\n",
       "  <thead>\n",
       "    <tr style=\"text-align: right;\">\n",
       "      <th></th>\n",
       "      <th>RESPONSE</th>\n",
       "    </tr>\n",
       "    <tr>\n",
       "      <th>GEOID</th>\n",
       "      <th></th>\n",
       "    </tr>\n",
       "  </thead>\n",
       "  <tbody>\n",
       "    <tr>\n",
       "      <th>101</th>\n",
       "      <td>0.166667</td>\n",
       "    </tr>\n",
       "    <tr>\n",
       "      <th>98</th>\n",
       "      <td>0.166667</td>\n",
       "    </tr>\n",
       "    <tr>\n",
       "      <th>95</th>\n",
       "      <td>0.125000</td>\n",
       "    </tr>\n",
       "    <tr>\n",
       "      <th>94</th>\n",
       "      <td>0.113636</td>\n",
       "    </tr>\n",
       "    <tr>\n",
       "      <th>97</th>\n",
       "      <td>0.111111</td>\n",
       "    </tr>\n",
       "    <tr>\n",
       "      <th>20</th>\n",
       "      <td>0.088889</td>\n",
       "    </tr>\n",
       "    <tr>\n",
       "      <th>21</th>\n",
       "      <td>0.078431</td>\n",
       "    </tr>\n",
       "    <tr>\n",
       "      <th>66</th>\n",
       "      <td>0.077259</td>\n",
       "    </tr>\n",
       "    <tr>\n",
       "      <th>22</th>\n",
       "      <td>0.074074</td>\n",
       "    </tr>\n",
       "    <tr>\n",
       "      <th>70</th>\n",
       "      <td>0.073864</td>\n",
       "    </tr>\n",
       "  </tbody>\n",
       "</table>\n",
       "</div>"
      ],
      "text/plain": [
       "       RESPONSE\n",
       "GEOID          \n",
       "101    0.166667\n",
       "98     0.166667\n",
       "95     0.125000\n",
       "94     0.113636\n",
       "97     0.111111\n",
       "20     0.088889\n",
       "21     0.078431\n",
       "66     0.077259\n",
       "22     0.074074\n",
       "70     0.073864"
      ]
     },
     "execution_count": 96,
     "metadata": {},
     "output_type": "execute_result"
    }
   ],
   "source": [
    "grped_resp_rate = df_merged[df_merged.GEOID.isin(valid_geoids)][['RESPONSE','GEOID']].groupby('GEOID')\\\n",
    "            .mean().sort_values('RESPONSE', ascending=False)\n",
    "grped_resp_rate.head(10)"
   ]
  },
  {
   "cell_type": "code",
   "execution_count": null,
   "metadata": {},
   "outputs": [],
   "source": []
  }
 ],
 "metadata": {
  "kernelspec": {
   "display_name": "Python 3",
   "language": "python",
   "name": "python3"
  },
  "language_info": {
   "codemirror_mode": {
    "name": "ipython",
    "version": 3
   },
   "file_extension": ".py",
   "mimetype": "text/x-python",
   "name": "python",
   "nbconvert_exporter": "python",
   "pygments_lexer": "ipython3",
   "version": "3.6.4"
  }
 },
 "nbformat": 4,
 "nbformat_minor": 2
}
